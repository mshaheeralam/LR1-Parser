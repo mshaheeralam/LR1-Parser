{
 "cells": [
  {
   "cell_type": "code",
   "execution_count": 1,
   "metadata": {},
   "outputs": [],
   "source": [
    "from util import LR1"
   ]
  },
  {
   "cell_type": "code",
   "execution_count": 2,
   "metadata": {},
   "outputs": [],
   "source": [
    "nonterminal = [\"S'\", 'S', 'E', 'T', 'F']\n",
    "terminal = ['-', 'x', 'i']\n",
    "production = {\"S'\": [('S')], \"S\": [('E')], 'E': [('T', '-', 'E'), ('T')], 'T': [('F', 'x', 'T'), ('F')], 'F': [('i')]}"
   ]
  },
  {
   "cell_type": "code",
   "execution_count": 3,
   "metadata": {},
   "outputs": [],
   "source": [
    "lr = LR1(nonterminal, terminal, production)\n",
    "table = lr.construct()\n",
    "stack, inp, op, res = lr.parser(table, 'ixi')"
   ]
  },
  {
   "cell_type": "code",
   "execution_count": 4,
   "metadata": {},
   "outputs": [
    {
     "name": "stdout",
     "output_type": "stream",
     "text": [
      "                            S'                             S                             E                             T                             F                             -                             x                             i                             $\n",
      "0                             ('', 'accept')                ('s', 2)                      ('s', 3)                      ('s', 4)                      ('s', 5)                      -                             -                             ('s', 1)                      -                             \n",
      "1                             -                             -                             -                             -                             -                             -                             -                             ('r', ('F', ('i',)))          ('r', ('F', ('i',)))          \n",
      "2                             -                             -                             -                             -                             -                             -                             -                             -                             ('r', (\"S'\", ('S',)))         \n",
      "3                             -                             -                             -                             -                             -                             -                             -                             -                             ('r', ('S', ('E',)))          \n",
      "4                             -                             -                             -                             -                             -                             ('s', 6)                      -                             -                             ('r', ('E', ('T',)))          \n",
      "5                             -                             -                             -                             -                             -                             -                             ('s', 7)                      ('r', ('T', ('F',)))          ('r', ('T', ('F',)))          \n",
      "6                             -                             -                             ('s', 8)                      ('', 4)                       ('', 5)                       -                             -                             ('s', 1)                      -                             \n",
      "9                             -                             -                             -                             ('s', 9)                      ('', 5)                       -                             -                             ('s', 1)                      -                             \n",
      "11                            -                             -                             -                             -                             -                             -                             -                             -                             ('r', ('E', ('T', '-', 'E'))) \n",
      "12                            -                             -                             -                             -                             -                             ('s', 6)                      -                             -                             ('r', ('E', ('T',)))          \n",
      "13                            -                             -                             -                             -                             -                             -                             ('s', 7)                      ('r', ('T', ('F',)))          ('r', ('T', ('F',)))          \n",
      "14                            -                             -                             -                             -                             -                             -                             -                             ('r', ('T', ('F', 'x', 'T'))) ('r', ('T', ('F', 'x', 'T'))) \n",
      "15                            -                             -                             -                             -                             -                             -                             ('s', 7)                      ('r', ('T', ('F',)))          ('r', ('T', ('F',)))          \n"
     ]
    }
   ],
   "source": [
    "w = 30\n",
    "data = [table, stack, res, nonterminal + terminal + [\"$\"]]\n",
    "for x in data[3]:\n",
    "    print(\"\".join(str(x).rjust(w)), end=\"\")\n",
    "print()\n",
    "for x in data[0]:\n",
    "    print(\"\".join(str(x).ljust(w)), end=\"\")\n",
    "    for z in data[3]:\n",
    "        if z not in data[0][x]:\n",
    "            print(\"\".join(\"-\".ljust(w)), end=\"\")\n",
    "        else:\n",
    "            print(\"\".join(str(data[0][x][z]).ljust(w)), end=\"\")\n",
    "    print()"
   ]
  },
  {
   "cell_type": "code",
   "execution_count": 5,
   "metadata": {},
   "outputs": [
    {
     "name": "stdout",
     "output_type": "stream",
     "text": [
      "               Stack               Input           Operation\n",
      "            ['#', 0]                ixi$                  s1\n",
      "    ['#', 0, 'i', 1]                 xi$              reject\n"
     ]
    }
   ],
   "source": [
    "w = 20\n",
    "\n",
    "for i in ['Stack', 'Input', 'Operation']:\n",
    "    print(\"\".join(str(i).rjust(w)), end=\"\")\n",
    "print()\n",
    "for s, i, o in zip(stack, inp, op):\n",
    "    print(\"\".join(str(s).rjust(w)), end=\"\")\n",
    "    print(\"\".join(str(i).rjust(w)), end=\"\")\n",
    "    print(\"\".join(str(o).rjust(w)), end=\"\")\n",
    "    print()"
   ]
  },
  {
   "cell_type": "code",
   "execution_count": null,
   "metadata": {},
   "outputs": [],
   "source": []
  }
 ],
 "metadata": {
  "kernelspec": {
   "display_name": "Python 3",
   "language": "python",
   "name": "python3"
  },
  "language_info": {
   "codemirror_mode": {
    "name": "ipython",
    "version": 3
   },
   "file_extension": ".py",
   "mimetype": "text/x-python",
   "name": "python",
   "nbconvert_exporter": "python",
   "pygments_lexer": "ipython3",
   "version": "3.9.0"
  },
  "orig_nbformat": 4
 },
 "nbformat": 4,
 "nbformat_minor": 2
}
